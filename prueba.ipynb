{
 "cells": [
  {
   "cell_type": "code",
   "execution_count": null,
   "metadata": {},
   "outputs": [],
   "source": [
    "#haciendo uso de zappa modificar un codigo en lambda\n",
    "\n",
    "from json import dumps\n",
    "import boto3\n",
    "\n",
    "def lambda_handler(event, context):\n",
    "    # TODO implement\n",
    "    print('holaaaaa')\n",
    "    return {\n",
    "        'statusCode': 200,\n",
    "        'body': dumps('Hello from Lambda!')\n",
    "    }"
   ]
  }
 ],
 "metadata": {
  "kernelspec": {
   "display_name": "Python 3.8.13 ('3.x8')",
   "language": "python",
   "name": "python3"
  },
  "language_info": {
   "name": "python",
   "version": "3.8.13"
  },
  "orig_nbformat": 4,
  "vscode": {
   "interpreter": {
    "hash": "4dc3d9a38ab20b4351fa014153a85b2b3501ce78bebd6b784c907e32a8ee0017"
   }
  }
 },
 "nbformat": 4,
 "nbformat_minor": 2
}
